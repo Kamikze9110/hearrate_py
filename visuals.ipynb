{
 "cells": [
  {
   "cell_type": "code",
   "execution_count": 5,
   "metadata": {},
   "outputs": [],
   "source": [
    "from bvp import BVPExtractor"
   ]
  },
  {
   "cell_type": "code",
   "execution_count": 6,
   "metadata": {},
   "outputs": [],
   "source": [
    "import os\n",
    "from os import path\n",
    "import matplotlib.pyplot as plt\n",
    "import numpy as np"
   ]
  },
  {
   "cell_type": "markdown",
   "metadata": {},
   "source": [
    "Get pkl files"
   ]
  },
  {
   "cell_type": "code",
   "execution_count": 7,
   "metadata": {},
   "outputs": [
    {
     "name": "stdout",
     "output_type": "stream",
     "text": [
      "['1_55BPM.mp4channels.pkl', '2_67BPM.mp4channels.pkl', '3_56BPM.mp4channels.pkl', '4_78BPM.mp4channels.pkl', '66_mid.mp4', '66_mid_Trim.mp4_channels.pkl', '68_david_channels.pkl', '6_59BPM.mp4channels.pkl', '70_farthest.mp4', '70_farthest.mp4_channels.pkl', '75_david_channels.pkl', '79_chris_channels.pkl', 'distance']\n"
     ]
    }
   ],
   "source": [
    "pkl_files = os.listdir('channel_data')\n",
    "print(pkl_files)"
   ]
  },
  {
   "cell_type": "code",
   "execution_count": 8,
   "metadata": {},
   "outputs": [],
   "source": [
    "pkl_files = [path.join('channel_data', file) for file in pkl_files if path.isfile(path.join('channel_data', file))]"
   ]
  },
  {
   "cell_type": "code",
   "execution_count": 9,
   "metadata": {},
   "outputs": [
    {
     "name": "stdout",
     "output_type": "stream",
     "text": [
      "['channel_data\\\\1_55BPM.mp4channels.pkl', 'channel_data\\\\2_67BPM.mp4channels.pkl', 'channel_data\\\\3_56BPM.mp4channels.pkl', 'channel_data\\\\4_78BPM.mp4channels.pkl', 'channel_data\\\\66_mid_Trim.mp4_channels.pkl', 'channel_data\\\\68_david_channels.pkl', 'channel_data\\\\6_59BPM.mp4channels.pkl', 'channel_data\\\\70_farthest.mp4_channels.pkl', 'channel_data\\\\75_david_channels.pkl', 'channel_data\\\\79_chris_channels.pkl']\n"
     ]
    }
   ],
   "source": [
    "print(pkl_files)"
   ]
  },
  {
   "cell_type": "code",
   "execution_count": 148,
   "metadata": {},
   "outputs": [],
   "source": [
    "bpm = [55,67,56,78,68,59,75,79]\n",
    "# bpm = [55,67,56,68]\n",
    "params = [299.9, 4.8, .5, 1.4]"
   ]
  },
  {
   "cell_type": "code",
   "execution_count": 149,
   "metadata": {},
   "outputs": [],
   "source": [
    "exctractor = BVPExtractor(299.9, 4.8,[ .5, 1.4])"
   ]
  },
  {
   "cell_type": "code",
   "execution_count": 150,
   "metadata": {},
   "outputs": [
    {
     "name": "stdout",
     "output_type": "stream",
     "text": [
      "channel_data\\1_55BPM.mp4channels.pkl\n",
      "channel_data\\2_67BPM.mp4channels.pkl\n"
     ]
    },
    {
     "name": "stderr",
     "output_type": "stream",
     "text": [
      "C:\\Users\\Spencer Mullinix\\anaconda3\\lib\\site-packages\\sklearn\\decomposition\\_fastica.py:118: ConvergenceWarning: FastICA did not converge. Consider increasing tolerance or the maximum number of iterations.\n",
      "  warnings.warn('FastICA did not converge. Consider increasing '\n"
     ]
    },
    {
     "name": "stdout",
     "output_type": "stream",
     "text": [
      "channel_data\\3_56BPM.mp4channels.pkl\n",
      "channel_data\\4_78BPM.mp4channels.pkl\n",
      "channel_data\\68_david_channels.pkl\n"
     ]
    },
    {
     "name": "stderr",
     "output_type": "stream",
     "text": [
      "C:\\Users\\Spencer Mullinix\\anaconda3\\lib\\site-packages\\scipy\\interpolate\\fitpack2.py:253: UserWarning: \n",
      "The maximal number of iterations maxit (set to 20 by the program)\n",
      "allowed for finding a smoothing spline with fp=s has been reached: s\n",
      "too small.\n",
      "There is an approximation returned but the corresponding weighted sum\n",
      "of squared residuals does not satisfy the condition abs(fp-s)/s < tol.\n",
      "  warnings.warn(message)\n"
     ]
    },
    {
     "name": "stdout",
     "output_type": "stream",
     "text": [
      "channel_data\\6_59BPM.mp4channels.pkl\n",
      "channel_data\\75_david_channels.pkl\n"
     ]
    },
    {
     "name": "stderr",
     "output_type": "stream",
     "text": [
      "C:\\Users\\Spencer Mullinix\\anaconda3\\lib\\site-packages\\sklearn\\decomposition\\_fastica.py:118: ConvergenceWarning: FastICA did not converge. Consider increasing tolerance or the maximum number of iterations.\n",
      "  warnings.warn('FastICA did not converge. Consider increasing '\n"
     ]
    },
    {
     "name": "stdout",
     "output_type": "stream",
     "text": [
      "channel_data\\79_chris_channels.pkl\n"
     ]
    }
   ],
   "source": [
    "found = []\n",
    "for file in pkl_files:\n",
    "    print(file)\n",
    "    bvp, fs = exctractor.get_BVP_signal(None, False, file)\n",
    "    found.append(exctractor.find_heartrate(bvp, fs)['bpm'])"
   ]
  },
  {
   "cell_type": "code",
   "execution_count": 151,
   "metadata": {},
   "outputs": [
    {
     "name": "stdout",
     "output_type": "stream",
     "text": [
      "[66.81695621221091, 73.87556821436077, 60.289962871323965, 69.23519807466043, 68.43550150636763, 60.504641061879106, 72.0882680793594, 69.35213546783793]\n"
     ]
    }
   ],
   "source": [
    "print(found)"
   ]
  },
  {
   "cell_type": "code",
   "execution_count": 159,
   "metadata": {},
   "outputs": [
    {
     "data": {
      "image/png": "[encoded data removed]",
      "text/plain": [
       "<Figure size 432x288 with 1 Axes>"
      ]
     },
     "metadata": {
      "needs_background": "light"
     },
     "output_type": "display_data"
    }
   ],
   "source": [
    "x = np.array(bpm)\n",
    "y = np.array(found)\n",
    "m, b = np.polyfit(x,y, 1)\n",
    "\n",
    "plt.scatter(x,y, s=100)\n",
    "plt.plot(x, 1*x + 0)\n",
    "plt.title(\"Validation\")\n",
    "plt.xlabel(\"Ground Truth\")\n",
    "# plt.xlim(50,100)\n",
    "plt.ylabel(\"Output\")\n",
    "# plt.ylim(50,100)\n",
    "plt.show()"
   ]
  },
  {
   "cell_type": "code",
   "execution_count": 153,
   "metadata": {},
   "outputs": [],
   "source": [
    "from sklearn.metrics import mean_squared_error\n",
    "from math import sqrt\n",
    "\n",
    "rms = sqrt(mean_squared_error(bpm, found))"
   ]
  },
  {
   "cell_type": "code",
   "execution_count": 154,
   "metadata": {},
   "outputs": [
    {
     "data": {
      "text/plain": [
       "6.9475940594134995"
      ]
     },
     "execution_count": 154,
     "metadata": {},
     "output_type": "execute_result"
    }
   ],
   "source": [
    "rms"
   ]
  },
  {
   "cell_type": "code",
   "execution_count": 155,
   "metadata": {},
   "outputs": [
    {
     "name": "stdout",
     "output_type": "stream",
     "text": [
      "5.7808785305355785\n"
     ]
    }
   ],
   "source": [
    "# average abs distance\n",
    "dist = [abs(x-y) for x,y in zip(bpm,found)]\n",
    "print(sum(dist)/len(dist))"
   ]
  },
  {
   "cell_type": "code",
   "execution_count": 156,
   "metadata": {},
   "outputs": [],
   "source": [
    "from statistics import pstdev"
   ]
  },
  {
   "cell_type": "code",
   "execution_count": 157,
   "metadata": {},
   "outputs": [
    {
     "data": {
      "text/plain": [
       "3.8536355081391087"
      ]
     },
     "execution_count": 157,
     "metadata": {},
     "output_type": "execute_result"
    }
   ],
   "source": [
    "pstdev(dist)"
   ]
  },
  {
   "cell_type": "markdown",
   "metadata": {},
   "source": [
    "## Distance Testing"
   ]
  },
  {
   "cell_type": "code",
   "execution_count": 28,
   "metadata": {},
   "outputs": [
    {
     "name": "stdout",
     "output_type": "stream",
     "text": [
      "['.ipynb_checkpoints', '65_close.pkl', '66_mid_Trim.mp4_channels.pkl', '70_farthest.mp4_channels.pkl']\n"
     ]
    }
   ],
   "source": [
    "pkl_files = os.listdir('channel_data\\distance')\n",
    "print(pkl_files)"
   ]
  },
  {
   "cell_type": "code",
   "execution_count": 29,
   "metadata": {},
   "outputs": [],
   "source": [
    "pkl_files = [path.join('channel_data\\distance', file) for file in pkl_files if \".pkl\" in file]"
   ]
  },
  {
   "cell_type": "code",
   "execution_count": 30,
   "metadata": {},
   "outputs": [],
   "source": [
    "exctractor = BVPExtractor(299.9, 4.8,[ .5, 1.4])"
   ]
  },
  {
   "cell_type": "code",
   "execution_count": 31,
   "metadata": {},
   "outputs": [],
   "source": [
    "found = []\n",
    "for file in pkl_files:\n",
    "    bvp, fs = exctractor.get_BVP_signal(None, False, file)\n",
    "    found.append(exctractor.find_heartrate(bvp, fs)['bpm'])"
   ]
  },
  {
   "cell_type": "code",
   "execution_count": 32,
   "metadata": {},
   "outputs": [
    {
     "name": "stdout",
     "output_type": "stream",
     "text": [
      "[60.0041787458539, 63.90532544378698, 61.228482957850396]\n"
     ]
    }
   ],
   "source": [
    "print(found)"
   ]
  },
  {
   "cell_type": "markdown",
   "metadata": {},
   "source": [
    "## Downsampled"
   ]
  },
  {
   "cell_type": "code",
   "execution_count": 43,
   "metadata": {},
   "outputs": [
    {
     "name": "stdout",
     "output_type": "stream",
     "text": [
      "['1080_high.mp4_channels.pkl', '540_low.mp4_channels.pkl', '720_mid.mp4_channels.pkl']\n"
     ]
    }
   ],
   "source": [
    "pkl_files = os.listdir('channel_data\\downsampled')\n",
    "print(pkl_files)"
   ]
  },
  {
   "cell_type": "code",
   "execution_count": 44,
   "metadata": {},
   "outputs": [],
   "source": [
    "pkl_files = [path.join('channel_data\\downsampled', file) for file in pkl_files if \".pkl\" in file]"
   ]
  },
  {
   "cell_type": "code",
   "execution_count": 45,
   "metadata": {},
   "outputs": [],
   "source": [
    "exctractor = BVPExtractor(299.9, 4.8,[ .5, 1.4])"
   ]
  },
  {
   "cell_type": "code",
   "execution_count": 46,
   "metadata": {},
   "outputs": [],
   "source": [
    "found = []\n",
    "for file in pkl_files:\n",
    "    bvp, fs = exctractor.get_BVP_signal(None, False, file)\n",
    "    found.append(exctractor.find_heartrate(bvp, fs)['bpm'])"
   ]
  },
  {
   "cell_type": "code",
   "execution_count": 47,
   "metadata": {},
   "outputs": [
    {
     "data": {
      "text/plain": [
       "[70.86614173228345, 61.57894736842107, 68.62170087976538]"
      ]
     },
     "execution_count": 47,
     "metadata": {},
     "output_type": "execute_result"
    }
   ],
   "source": [
    "found"
   ]
  },
  {
   "cell_type": "markdown",
   "metadata": {},
   "source": [
    "## Other stuff"
   ]
  },
  {
   "cell_type": "code",
   "execution_count": 10,
   "metadata": {},
   "outputs": [],
   "source": [
    "import pickle"
   ]
  },
  {
   "cell_type": "code",
   "execution_count": 19,
   "metadata": {},
   "outputs": [],
   "source": [
    "with open(pkl_files[0], 'rb') as f:\n",
    "    tester = pickle.load(f)"
   ]
  },
  {
   "cell_type": "code",
   "execution_count": 23,
   "metadata": {},
   "outputs": [
    {
     "data": {
      "text/plain": [
       "array([ 81.10362319,  76.41195652, 105.05144928])"
      ]
     },
     "execution_count": 23,
     "metadata": {},
     "output_type": "execute_result"
    }
   ],
   "source": [
    "tester['data'][0]"
   ]
  },
  {
   "cell_type": "code",
   "execution_count": null,
   "metadata": {},
   "outputs": [],
   "source": []
  }
 ],
 "metadata": {
  "kernelspec": {
   "display_name": "Python 3",
   "language": "python",
   "name": "python3"
  },
  "language_info": {
   "codemirror_mode": {
    "name": "ipython",
    "version": 3
   },
   "file_extension": ".py",
   "mimetype": "text/x-python",
   "name": "python",
   "nbconvert_exporter": "python",
   "pygments_lexer": "ipython3",
   "version": "3.8.3"
  }
 },
 "nbformat": 4,
 "nbformat_minor": 4
}
